{
 "cells": [
  {
   "cell_type": "markdown",
   "metadata": {},
   "source": [
    "### Whisper + silero vad\n",
    "\n",
    "silero vad 모델과 배경을 제거 통해 말하는 타이밍을 더 정확하게 잡아서 text추출을 더 좋게 할 수 있게 가능하다 라는 글을 보고 작성한 note book.\n",
    "\n",
    "### 파이프 라인 전개도\n",
    "\n",
    "![pipeline-image](https://miro.medium.com/v2/resize:fit:4800/format:webp/1*sUAnXkxvJYReCpwXZGOz_A.png)\n",
    "\n",
    "### 파이프 라인 전개도를 통해 얻은 결과 (whisper-largev2 모델 사용)\n",
    "\n",
    "1. `audio` 를 바로 `whisper` 모델에 넣어 봤을 경우\n",
    "   - 인식률이 떨어지는 경우 + 조금의 할루시네이션 이 발생하긴 하였지만 어느정도의 음성은 추출됨.\n",
    "   - 가끔 배경의 소리를 음성으로 인식해 음성의 시작이 아닌 배경의 시작에서 부터 시간이 잡혀있거나 그런 경우가 있음.\n",
    "2. `audio UVR`처리를 한 후 `whisper` 모델에 넣어 봤을 경우\n",
    "   - `whisper`모델 으로 갔을 경우 택스트 추출에 꽤나 어려움을 보임. 많은 할루시네이션 발생 같은 문자가 반복되거나, 조금씩 빠져나온 배경음을 언어로 인식하는 등 기본 모델에서 보이지 않던 문제가 발생.\n",
    "3. `silero VAD`처리를 한 후 `whisper` 모델에 넣어 봤을 경우\n",
    "   - 글에서 설명한 모델 `UVR-MDX-NET HQ4`을 사용 해서 했을 경우에 음성의 위치는 정확하게 추출 되지만, `min_speech_duration_ms`를 낮춰 봤음에도 짦게 말하는 부분은 추출하지 못하는 문제가 발생.\n",
    "   - 음성의 위치가 정확하게 추출된 상태에서 `whisper`모델 을 사용 한 결과, 기존 `whisper`에서 생긴 문제인 배경을 음성으로 인식하는 부분이 줄어듬 단, 추출 되는 음성의 양이 `51`개에서 `48`개 까지 줄어듬. (인식 못하는 부분 있음.)\n",
    "4. 파이프 라인의 전개도를 모두 따라 갔을 경우.\n",
    "   - `UVR`를 통해 음성 분리를 하고 `silero VAD`를 통해 voice 를 추출한 다음, `whisper`로 음성 추출 이후 `silero VAD`의 시간을 통합했을 경우 앞 `3.`에서 언급한 인식 못하는 부분은 줄고 그 부분이 정확하게 반환되지만, `whisper`가 인식을 못해서 글이 추출 되지 않는 문제가 발생.. `whisper`의 초기 값을 수정하거나 그럴 필요가 있어보임.\n",
    "\n",
    "### 정리\n",
    "\n",
    "- audio 분리 전처리 과정을 통한 더 좋은 오디오 추출은 가능하였지만, 그 추출된 오디오를 `whisper`로 넘겨주는 과정에서 문제가 발생하고 있음. 이후 `whisper` 파라미터를 수정해보며 성능을 올릴 수 있어 보임..  \n",
    "\n",
    "### 참조\n",
    "\n",
    "- [audio 분리(전처리) 과정을 통한 더 좋은 오디오 추출 에 관한 글](https://medium.com/@developerjo0517/audio-pre-processings-for-better-results-in-the-transcription-pipeline-bab1e8f63334)\n"
   ]
  },
  {
   "cell_type": "code",
   "execution_count": null,
   "metadata": {},
   "outputs": [
    {
     "name": "stdout",
     "output_type": "stream",
     "text": [
      "MoviePy - Writing audio in ../segments/bc6b2a2a-3da2-450e-8f82-1be2838ac6c7.wav\n"
     ]
    },
    {
     "name": "stderr",
     "output_type": "stream",
     "text": [
      "                                                       "
     ]
    },
    {
     "name": "stdout",
     "output_type": "stream",
     "text": [
      "MoviePy - Done.\n"
     ]
    },
    {
     "name": "stderr",
     "output_type": "stream",
     "text": [
      "\r"
     ]
    },
    {
     "name": "stdout",
     "output_type": "stream",
     "text": [
      "Index 0: Transcription: うまむすめ\n",
      "MoviePy - Writing audio in ../segments/ab764ab4-0cf9-4089-8e67-5b39421d0d59.wav\n"
     ]
    },
    {
     "name": "stderr",
     "output_type": "stream",
     "text": [
      "                                                       "
     ]
    },
    {
     "name": "stdout",
     "output_type": "stream",
     "text": [
      "MoviePy - Done.\n"
     ]
    },
    {
     "name": "stderr",
     "output_type": "stream",
     "text": [
      "\r"
     ]
    },
    {
     "name": "stdout",
     "output_type": "stream",
     "text": [
      "Index 1: Transcription: 彼女たちは\n",
      "MoviePy - Writing audio in ../segments/12e7cb70-79f0-4715-8894-92a4f1f2fc45.wav\n"
     ]
    },
    {
     "name": "stderr",
     "output_type": "stream",
     "text": [
      "                                                       "
     ]
    },
    {
     "name": "stdout",
     "output_type": "stream",
     "text": [
      "MoviePy - Done.\n"
     ]
    },
    {
     "name": "stderr",
     "output_type": "stream",
     "text": [
      "\r"
     ]
    },
    {
     "name": "stdout",
     "output_type": "stream",
     "text": [
      "Index 2: Transcription: 走るために生まれてきた\n",
      "MoviePy - Writing audio in ../segments/f580cb7c-e4c3-434c-9e6c-09024316e7ce.wav\n"
     ]
    },
    {
     "name": "stderr",
     "output_type": "stream",
     "text": [
      "                                                       "
     ]
    },
    {
     "name": "stdout",
     "output_type": "stream",
     "text": [
      "MoviePy - Done.\n"
     ]
    },
    {
     "name": "stderr",
     "output_type": "stream",
     "text": [
      "\r"
     ]
    },
    {
     "name": "stdout",
     "output_type": "stream",
     "text": [
      "Index 3: Transcription: 時にスーツ着で\n",
      "MoviePy - Writing audio in ../segments/5fcf79b6-88a4-4659-950e-0fb0b982628a.wav\n"
     ]
    },
    {
     "name": "stderr",
     "output_type": "stream",
     "text": [
      "                                                       "
     ]
    },
    {
     "name": "stdout",
     "output_type": "stream",
     "text": [
      "MoviePy - Done.\n"
     ]
    },
    {
     "name": "stderr",
     "output_type": "stream",
     "text": [
      "\r"
     ]
    },
    {
     "name": "stdout",
     "output_type": "stream",
     "text": [
      "Index 4: Transcription: 時に輝かしい歴史を持つ別世界の名前と共に生まれ\n",
      "MoviePy - Writing audio in ../segments/83abd5fd-43a7-4d73-bf84-1cffe0bac6ee.wav\n"
     ]
    },
    {
     "name": "stderr",
     "output_type": "stream",
     "text": [
      "                                                       "
     ]
    },
    {
     "name": "stdout",
     "output_type": "stream",
     "text": [
      "MoviePy - Done.\n"
     ]
    },
    {
     "name": "stderr",
     "output_type": "stream",
     "text": [
      "\r"
     ]
    },
    {
     "name": "stdout",
     "output_type": "stream",
     "text": [
      "Index 5: Transcription: その魂を受けて\n",
      "MoviePy - Writing audio in ../segments/2cdd2c35-18d7-42a8-8481-99fc35cb3004.wav\n"
     ]
    },
    {
     "name": "stderr",
     "output_type": "stream",
     "text": [
      "                                                       "
     ]
    },
    {
     "name": "stdout",
     "output_type": "stream",
     "text": [
      "MoviePy - Done.\n"
     ]
    },
    {
     "name": "stderr",
     "output_type": "stream",
     "text": [
      "\r"
     ]
    },
    {
     "name": "stdout",
     "output_type": "stream",
     "text": [
      "Index 6: Transcription: 続いて走る\n",
      "MoviePy - Writing audio in ../segments/8ab508ed-5ec0-4abf-a693-482699534a7b.wav\n"
     ]
    },
    {
     "name": "stderr",
     "output_type": "stream",
     "text": [
      "                                                       "
     ]
    },
    {
     "name": "stdout",
     "output_type": "stream",
     "text": [
      "MoviePy - Done.\n"
     ]
    },
    {
     "name": "stderr",
     "output_type": "stream",
     "text": [
      "\r"
     ]
    },
    {
     "name": "stdout",
     "output_type": "stream",
     "text": [
      "Index 7: Transcription: それが\n",
      "MoviePy - Writing audio in ../segments/99ecd4dd-a2fb-4344-8f5c-c6cd5f220f15.wav\n"
     ]
    },
    {
     "name": "stderr",
     "output_type": "stream",
     "text": [
      "                                                       "
     ]
    },
    {
     "name": "stdout",
     "output_type": "stream",
     "text": [
      "MoviePy - Done.\n"
     ]
    },
    {
     "name": "stderr",
     "output_type": "stream",
     "text": [
      "\r"
     ]
    },
    {
     "name": "stdout",
     "output_type": "stream",
     "text": [
      "Index 8: Transcription: 彼女たちの運命\n",
      "MoviePy - Writing audio in ../segments/9eccfec7-131d-4b94-8c5a-4841b2e28ba9.wav\n"
     ]
    },
    {
     "name": "stderr",
     "output_type": "stream",
     "text": [
      "                                                       "
     ]
    },
    {
     "name": "stdout",
     "output_type": "stream",
     "text": [
      "MoviePy - Done.\n"
     ]
    },
    {
     "name": "stderr",
     "output_type": "stream",
     "text": [
      "\r"
     ]
    },
    {
     "name": "stdout",
     "output_type": "stream",
     "text": [
      "Index 9: Transcription: 世界に生きる馬娘の\n",
      "MoviePy - Writing audio in ../segments/93b68dac-cb47-4342-82e9-83c527e2dbe0.wav\n"
     ]
    },
    {
     "name": "stderr",
     "output_type": "stream",
     "text": [
      "                                                       "
     ]
    },
    {
     "name": "stdout",
     "output_type": "stream",
     "text": [
      "MoviePy - Done.\n"
     ]
    },
    {
     "name": "stderr",
     "output_type": "stream",
     "text": [
      "\r"
     ]
    },
    {
     "name": "stdout",
     "output_type": "stream",
     "text": [
      "Index 10: Transcription: 未来のレース結果は?\n",
      "MoviePy - Writing audio in ../segments/fb532809-cf15-46e8-bd8f-13f35b80f7ee.wav\n"
     ]
    },
    {
     "name": "stderr",
     "output_type": "stream",
     "text": [
      "                                                       "
     ]
    },
    {
     "name": "stdout",
     "output_type": "stream",
     "text": [
      "MoviePy - Done.\n"
     ]
    },
    {
     "name": "stderr",
     "output_type": "stream",
     "text": [
      "\r"
     ]
    },
    {
     "name": "stdout",
     "output_type": "stream",
     "text": [
      "Index 11: Transcription: まだ誰にもわからない\n",
      "MoviePy - Writing audio in ../segments/335ad799-4919-412e-b8f7-637d0f39004c.wav\n"
     ]
    },
    {
     "name": "stderr",
     "output_type": "stream",
     "text": [
      "                                                       "
     ]
    },
    {
     "name": "stdout",
     "output_type": "stream",
     "text": [
      "MoviePy - Done.\n"
     ]
    },
    {
     "name": "stderr",
     "output_type": "stream",
     "text": [
      "\r"
     ]
    },
    {
     "name": "stdout",
     "output_type": "stream",
     "text": [
      "Index 12: Transcription: 彼女たちは\n",
      "MoviePy - Writing audio in ../segments/77acec03-85d7-4f80-8365-315e9c3495cb.wav\n"
     ]
    },
    {
     "name": "stderr",
     "output_type": "stream",
     "text": [
      "                                                       "
     ]
    },
    {
     "name": "stdout",
     "output_type": "stream",
     "text": [
      "MoviePy - Done.\n"
     ]
    },
    {
     "name": "stderr",
     "output_type": "stream",
     "text": [
      "\r"
     ]
    },
    {
     "name": "stdout",
     "output_type": "stream",
     "text": [
      "Index 13: Transcription: 走り続ける\n",
      "MoviePy - Writing audio in ../segments/4b94f4e8-76a4-44e8-a02c-c5649969ffe0.wav\n"
     ]
    },
    {
     "name": "stderr",
     "output_type": "stream",
     "text": [
      "                                                       "
     ]
    },
    {
     "name": "stdout",
     "output_type": "stream",
     "text": [
      "MoviePy - Done.\n"
     ]
    },
    {
     "name": "stderr",
     "output_type": "stream",
     "text": [
      "\r"
     ]
    },
    {
     "name": "stdout",
     "output_type": "stream",
     "text": [
      "Index 14: Transcription: 瞳の先にある\n",
      "MoviePy - Writing audio in ../segments/5b00e027-e329-4060-a385-7b06804837de.wav\n"
     ]
    },
    {
     "name": "stderr",
     "output_type": "stream",
     "text": [
      "                                                       "
     ]
    },
    {
     "name": "stdout",
     "output_type": "stream",
     "text": [
      "MoviePy - Done.\n"
     ]
    },
    {
     "name": "stderr",
     "output_type": "stream",
     "text": [
      "\r"
     ]
    },
    {
     "name": "stdout",
     "output_type": "stream",
     "text": [
      "Index 15: Transcription: ゴールだけを目指して\n",
      "MoviePy - Writing audio in ../segments/96b2de5c-2131-4bcb-add0-4e122367b02a.wav\n"
     ]
    },
    {
     "name": "stderr",
     "output_type": "stream",
     "text": [
      "                                                       "
     ]
    },
    {
     "name": "stdout",
     "output_type": "stream",
     "text": [
      "MoviePy - Done.\n"
     ]
    },
    {
     "name": "stderr",
     "output_type": "stream",
     "text": [
      "\r"
     ]
    },
    {
     "name": "stdout",
     "output_type": "stream",
     "text": [
      "Index 16: Transcription: 早春の空のもと\n",
      "MoviePy - Writing audio in ../segments/b8d43a21-3741-42fc-9ef3-a5c11cb4ca94.wav\n"
     ]
    },
    {
     "name": "stderr",
     "output_type": "stream",
     "text": [
      "                                                       "
     ]
    },
    {
     "name": "stdout",
     "output_type": "stream",
     "text": [
      "MoviePy - Done.\n"
     ]
    },
    {
     "name": "stderr",
     "output_type": "stream",
     "text": [
      "\r"
     ]
    },
    {
     "name": "stdout",
     "output_type": "stream",
     "text": [
      "Index 17: Transcription: クラシックレースの行く末を占う大事な一戦が今\n",
      "MoviePy - Writing audio in ../segments/bb928189-e1d7-4178-ab40-682149032dc6.wav\n"
     ]
    },
    {
     "name": "stderr",
     "output_type": "stream",
     "text": [
      "                                                       "
     ]
    },
    {
     "name": "stdout",
     "output_type": "stream",
     "text": [
      "MoviePy - Done.\n"
     ]
    },
    {
     "name": "stderr",
     "output_type": "stream",
     "text": [
      "\r"
     ]
    },
    {
     "name": "stdout",
     "output_type": "stream",
     "text": [
      "Index 18: Transcription: 始まろうとしています\n",
      "MoviePy - Writing audio in ../segments/7a45fac4-2417-49be-a6b4-11e02cf138a4.wav\n"
     ]
    },
    {
     "name": "stderr",
     "output_type": "stream",
     "text": [
      "                                                       "
     ]
    },
    {
     "name": "stdout",
     "output_type": "stream",
     "text": [
      "MoviePy - Done.\n"
     ]
    },
    {
     "name": "stderr",
     "output_type": "stream",
     "text": [
      "\r"
     ]
    },
    {
     "name": "stdout",
     "output_type": "stream",
     "text": [
      "Index 19: Transcription: ゲートへ向かう馬娘たちはすでに気合十分\n",
      "MoviePy - Writing audio in ../segments/f7046128-02b8-476d-b86b-e17b7b75add0.wav\n"
     ]
    },
    {
     "name": "stderr",
     "output_type": "stream",
     "text": [
      "                                                       "
     ]
    },
    {
     "name": "stdout",
     "output_type": "stream",
     "text": [
      "MoviePy - Done.\n"
     ]
    },
    {
     "name": "stderr",
     "output_type": "stream",
     "text": [
      "\r"
     ]
    },
    {
     "name": "stdout",
     "output_type": "stream",
     "text": [
      "Index 20: Transcription: 学位入りも完了し、新たな時代の幕開けとなるべく\n",
      "MoviePy - Writing audio in ../segments/cc541aab-630b-4eda-a46d-d321b0ec19a8.wav\n"
     ]
    },
    {
     "name": "stderr",
     "output_type": "stream",
     "text": [
      "                                                       "
     ]
    },
    {
     "name": "stdout",
     "output_type": "stream",
     "text": [
      "MoviePy - Done.\n"
     ]
    },
    {
     "name": "stderr",
     "output_type": "stream",
     "text": [
      "\r"
     ]
    },
    {
     "name": "stdout",
     "output_type": "stream",
     "text": [
      "Index 21: Transcription: 注目のレース\n",
      "MoviePy - Writing audio in ../segments/fdcc33b8-ab35-46bc-8c0d-529b8b5da8d7.wav\n"
     ]
    },
    {
     "name": "stderr",
     "output_type": "stream",
     "text": [
      "                                                      "
     ]
    },
    {
     "name": "stdout",
     "output_type": "stream",
     "text": [
      "MoviePy - Done.\n"
     ]
    },
    {
     "name": "stderr",
     "output_type": "stream",
     "text": [
      "\r"
     ]
    },
    {
     "name": "stdout",
     "output_type": "stream",
     "text": [
      "Index 22: Transcription: いいは\n",
      "MoviePy - Writing audio in ../segments/8f506d4e-c094-4996-9729-7e4f990dc790.wav\n"
     ]
    },
    {
     "name": "stderr",
     "output_type": "stream",
     "text": [
      "                                                      "
     ]
    },
    {
     "name": "stdout",
     "output_type": "stream",
     "text": [
      "MoviePy - Done.\n"
     ]
    },
    {
     "name": "stderr",
     "output_type": "stream",
     "text": [
      "\r"
     ]
    },
    {
     "name": "stdout",
     "output_type": "stream",
     "text": [
      "Index 23: Transcription: \n",
      "MoviePy - Writing audio in ../segments/cf47e8ea-60c0-4d2d-a5a8-2e25c617bcb7.wav\n"
     ]
    },
    {
     "name": "stderr",
     "output_type": "stream",
     "text": [
      "                                                       "
     ]
    },
    {
     "name": "stdout",
     "output_type": "stream",
     "text": [
      "MoviePy - Done.\n"
     ]
    },
    {
     "name": "stderr",
     "output_type": "stream",
     "text": [
      "\r"
     ]
    },
    {
     "name": "stdout",
     "output_type": "stream",
     "text": [
      "Index 24: Transcription: \n",
      "MoviePy - Writing audio in ../segments/2e7405fa-c06f-43da-9c87-ccb13d7b3b68.wav\n"
     ]
    },
    {
     "name": "stderr",
     "output_type": "stream",
     "text": [
      "                                                       "
     ]
    },
    {
     "name": "stdout",
     "output_type": "stream",
     "text": [
      "MoviePy - Done.\n"
     ]
    },
    {
     "name": "stderr",
     "output_type": "stream",
     "text": [
      "\r"
     ]
    },
    {
     "name": "stdout",
     "output_type": "stream",
     "text": [
      "Index 25: Transcription: 新曲は生で見るのは初めてだっけ?\n",
      "MoviePy - Writing audio in ../segments/5f92e990-ffb0-4e48-89c4-c55a341ccd3b.wav\n"
     ]
    },
    {
     "name": "stderr",
     "output_type": "stream",
     "text": [
      "                                                       "
     ]
    },
    {
     "name": "stdout",
     "output_type": "stream",
     "text": [
      "MoviePy - Done.\n"
     ]
    },
    {
     "name": "stderr",
     "output_type": "stream",
     "text": [
      "\r"
     ]
    },
    {
     "name": "stdout",
     "output_type": "stream",
     "text": [
      "Index 26: Transcription: \n",
      "MoviePy - Writing audio in ../segments/f13052aa-2cfb-4dc3-bbcd-cf2edd58987f.wav\n"
     ]
    },
    {
     "name": "stderr",
     "output_type": "stream",
     "text": [
      "                                                       "
     ]
    },
    {
     "name": "stdout",
     "output_type": "stream",
     "text": [
      "MoviePy - Done.\n"
     ]
    },
    {
     "name": "stderr",
     "output_type": "stream",
     "text": [
      "\r"
     ]
    },
    {
     "name": "stdout",
     "output_type": "stream",
     "text": [
      "Index 27: Transcription: いやーなー\n",
      "MoviePy - Writing audio in ../segments/3b74161b-2ba1-4f20-8ba9-fbb565904f9b.wav\n"
     ]
    },
    {
     "name": "stderr",
     "output_type": "stream",
     "text": [
      "                                                       "
     ]
    },
    {
     "name": "stdout",
     "output_type": "stream",
     "text": [
      "MoviePy - Done.\n"
     ]
    },
    {
     "name": "stderr",
     "output_type": "stream",
     "text": [
      "\r"
     ]
    },
    {
     "name": "stdout",
     "output_type": "stream",
     "text": [
      "Index 28: Transcription: 高校のお嬢さん連中が\n",
      "MoviePy - Writing audio in ../segments/8d3cb3c4-e0eb-4ace-9efe-e13c4005b1c7.wav\n"
     ]
    },
    {
     "name": "stderr",
     "output_type": "stream",
     "text": [
      "                                                       "
     ]
    },
    {
     "name": "stdout",
     "output_type": "stream",
     "text": [
      "MoviePy - Done.\n"
     ]
    },
    {
     "name": "stderr",
     "output_type": "stream",
     "text": [
      "\r"
     ]
    },
    {
     "name": "stdout",
     "output_type": "stream",
     "text": [
      "Index 29: Transcription: どんだけハエのか\n",
      "MoviePy - Writing audio in ../segments/60722d12-4bfe-4ebe-bdf0-5c66916f051d.wav\n"
     ]
    },
    {
     "name": "stderr",
     "output_type": "stream",
     "text": [
      "                                                       "
     ]
    },
    {
     "name": "stdout",
     "output_type": "stream",
     "text": [
      "MoviePy - Done.\n"
     ]
    },
    {
     "name": "stderr",
     "output_type": "stream",
     "text": [
      "\r"
     ]
    },
    {
     "name": "stdout",
     "output_type": "stream",
     "text": [
      "Index 30: Transcription: 見てみようじゃねぇか\n",
      "MoviePy - Writing audio in ../segments/4706ff89-2b8c-461f-af9b-8cf693036c79.wav\n"
     ]
    },
    {
     "name": "stderr",
     "output_type": "stream",
     "text": [
      "                                                       "
     ]
    },
    {
     "name": "stdout",
     "output_type": "stream",
     "text": [
      "MoviePy - Done.\n"
     ]
    },
    {
     "name": "stderr",
     "output_type": "stream",
     "text": [
      "\r"
     ]
    },
    {
     "name": "stdout",
     "output_type": "stream",
     "text": [
      "Index 31: Transcription: 無事帰席、無事帰席が一気にかばして先頭のキラのマイウェイに並んでいきます\n",
      "MoviePy - Writing audio in ../segments/a785adcf-1bec-4c8c-8a8d-41b5e692a3af.wav\n"
     ]
    },
    {
     "name": "stderr",
     "output_type": "stream",
     "text": [
      "                                                       "
     ]
    },
    {
     "name": "stdout",
     "output_type": "stream",
     "text": [
      "MoviePy - Done.\n"
     ]
    },
    {
     "name": "stderr",
     "output_type": "stream",
     "text": [
      "\r"
     ]
    },
    {
     "name": "stdout",
     "output_type": "stream",
     "text": [
      "Index 32: Transcription: \n",
      "MoviePy - Writing audio in ../segments/150083bf-049c-4d79-8eb5-1311fa3f078d.wav\n"
     ]
    },
    {
     "name": "stderr",
     "output_type": "stream",
     "text": [
      "                                                       "
     ]
    },
    {
     "name": "stdout",
     "output_type": "stream",
     "text": [
      "MoviePy - Done.\n"
     ]
    },
    {
     "name": "stderr",
     "output_type": "stream",
     "text": [
      "\r"
     ]
    },
    {
     "name": "stdout",
     "output_type": "stream",
     "text": [
      "Index 33: Transcription: 安場真之 リード\n",
      "MoviePy - Writing audio in ../segments/2894ab2d-cd62-4d67-bb50-be502a8644d2.wav\n"
     ]
    },
    {
     "name": "stderr",
     "output_type": "stream",
     "text": [
      "                                                       "
     ]
    },
    {
     "name": "stdout",
     "output_type": "stream",
     "text": [
      "MoviePy - Done.\n"
     ]
    },
    {
     "name": "stderr",
     "output_type": "stream",
     "text": [
      "\r"
     ]
    },
    {
     "name": "stdout",
     "output_type": "stream",
     "text": [
      "Index 34: Transcription: さええな\n",
      "MoviePy - Writing audio in ../segments/56f18433-f9b4-495f-8e5b-28ae60ab3d3d.wav\n"
     ]
    },
    {
     "name": "stderr",
     "output_type": "stream",
     "text": [
      "                                                       "
     ]
    },
    {
     "name": "stdout",
     "output_type": "stream",
     "text": [
      "MoviePy - Done.\n"
     ]
    },
    {
     "name": "stderr",
     "output_type": "stream",
     "text": [
      "\r"
     ]
    },
    {
     "name": "stdout",
     "output_type": "stream",
     "text": [
      "Index 35: Transcription: え、え、え、え、え、え、え、え、え、え、え、え、え、え、え、え、え、え、え、え、え、え、え、え、え、え、え、え、え、え、え、え、え、え、え、え、え、え、え、え、え、え、え、え、え、え、え、え、え、え、え、え、え、え、え、え、え、え、え、え、え、え、え、え、え、え、え、え、え、え、え、え、え、え、え、え、え、え、え、え、え、え、え、え、え、え、え、え、え、え、え、え、え、え、え、え、え、え、え、え、え、え、え、え、え、え、え、え、え、え、え、え\n",
      "MoviePy - Writing audio in ../segments/0601948d-7284-419c-9952-102d584826ba.wav\n"
     ]
    },
    {
     "name": "stderr",
     "output_type": "stream",
     "text": [
      "                                                       "
     ]
    },
    {
     "name": "stdout",
     "output_type": "stream",
     "text": [
      "MoviePy - Done.\n"
     ]
    },
    {
     "name": "stderr",
     "output_type": "stream",
     "text": [
      "\r"
     ]
    },
    {
     "name": "stdout",
     "output_type": "stream",
     "text": [
      "Index 36: Transcription: ちょっと待て!\n",
      "MoviePy - Writing audio in ../segments/45ff3ecc-951d-4886-9f7b-63d479a67106.wav\n"
     ]
    },
    {
     "name": "stderr",
     "output_type": "stream",
     "text": [
      "                                                       "
     ]
    },
    {
     "name": "stdout",
     "output_type": "stream",
     "text": [
      "MoviePy - Done.\n"
     ]
    },
    {
     "name": "stderr",
     "output_type": "stream",
     "text": [
      "\r"
     ]
    },
    {
     "name": "stdout",
     "output_type": "stream",
     "text": [
      "Index 37: Transcription: さあ藤木敵、先頭のキラの真上に並んでいきます\n",
      "MoviePy - Writing audio in ../segments/9c823c10-51fe-441c-95dc-1299c38d72b8.wav\n"
     ]
    },
    {
     "name": "stderr",
     "output_type": "stream",
     "text": [
      "                                                      "
     ]
    },
    {
     "name": "stdout",
     "output_type": "stream",
     "text": [
      "MoviePy - Done.\n"
     ]
    },
    {
     "name": "stderr",
     "output_type": "stream",
     "text": [
      "\r"
     ]
    },
    {
     "name": "stdout",
     "output_type": "stream",
     "text": [
      "Index 38: Transcription: \n",
      "MoviePy - Writing audio in ../segments/1441f431-335b-4b53-85df-22dddea426ea.wav\n"
     ]
    },
    {
     "name": "stderr",
     "output_type": "stream",
     "text": [
      "                                                       "
     ]
    },
    {
     "name": "stdout",
     "output_type": "stream",
     "text": [
      "MoviePy - Done.\n"
     ]
    },
    {
     "name": "stderr",
     "output_type": "stream",
     "text": [
      "\r"
     ]
    },
    {
     "name": "stdout",
     "output_type": "stream",
     "text": [
      "Index 39: Transcription: ここで後続が一気に上がって不時期的にナロモン\n",
      "MoviePy - Writing audio in ../segments/6a50cdb1-33aa-4a07-9b29-639d61455773.wav\n"
     ]
    },
    {
     "name": "stderr",
     "output_type": "stream",
     "text": [
      "                                                       "
     ]
    },
    {
     "name": "stdout",
     "output_type": "stream",
     "text": [
      "MoviePy - Done.\n"
     ]
    },
    {
     "name": "stderr",
     "output_type": "stream",
     "text": [
      "\r"
     ]
    },
    {
     "name": "stdout",
     "output_type": "stream",
     "text": [
      "Index 40: Transcription: そのまま直線コース!\n",
      "MoviePy - Writing audio in ../segments/d572b4c1-8af9-43c7-a226-5caed4abf7fc.wav\n"
     ]
    },
    {
     "name": "stderr",
     "output_type": "stream",
     "text": [
      "                                                      "
     ]
    },
    {
     "name": "stdout",
     "output_type": "stream",
     "text": [
      "MoviePy - Done.\n"
     ]
    },
    {
     "name": "stderr",
     "output_type": "stream",
     "text": [
      "\r"
     ]
    },
    {
     "name": "stdout",
     "output_type": "stream",
     "text": [
      "Index 41: Transcription: で、いっ\n",
      "MoviePy - Writing audio in ../segments/50b1052b-ba88-4b2a-8211-9e7e7c40ce6b.wav\n"
     ]
    },
    {
     "name": "stderr",
     "output_type": "stream",
     "text": [
      "                                                      "
     ]
    },
    {
     "name": "stdout",
     "output_type": "stream",
     "text": [
      "MoviePy - Done.\n"
     ]
    },
    {
     "name": "stderr",
     "output_type": "stream",
     "text": [
      "\r"
     ]
    },
    {
     "name": "stdout",
     "output_type": "stream",
     "text": [
      "Index 42: Transcription: いやいやっ\n",
      "MoviePy - Writing audio in ../segments/d1e1ba44-8134-440e-8acc-a733d10adf01.wav\n"
     ]
    },
    {
     "name": "stderr",
     "output_type": "stream",
     "text": [
      "                                                      "
     ]
    },
    {
     "name": "stdout",
     "output_type": "stream",
     "text": [
      "MoviePy - Done.\n"
     ]
    },
    {
     "name": "stderr",
     "output_type": "stream",
     "text": [
      "\r"
     ]
    },
    {
     "name": "stdout",
     "output_type": "stream",
     "text": [
      "Index 43: Transcription: \n",
      "MoviePy - Writing audio in ../segments/26ec32e8-4cc9-4a0e-9e11-7c984294533b.wav\n"
     ]
    },
    {
     "name": "stderr",
     "output_type": "stream",
     "text": [
      "                                                      "
     ]
    },
    {
     "name": "stdout",
     "output_type": "stream",
     "text": [
      "MoviePy - Done.\n"
     ]
    },
    {
     "name": "stderr",
     "output_type": "stream",
     "text": [
      "\r"
     ]
    },
    {
     "name": "stdout",
     "output_type": "stream",
     "text": [
      "Index 44: Transcription: \n",
      "MoviePy - Writing audio in ../segments/9c7d79bf-85ab-4dc5-9274-5650752e0a2e.wav\n"
     ]
    },
    {
     "name": "stderr",
     "output_type": "stream",
     "text": [
      "                                                       "
     ]
    },
    {
     "name": "stdout",
     "output_type": "stream",
     "text": [
      "MoviePy - Done.\n"
     ]
    },
    {
     "name": "stderr",
     "output_type": "stream",
     "text": [
      "\r"
     ]
    },
    {
     "name": "stdout",
     "output_type": "stream",
     "text": [
      "Index 45: Transcription: 優先から負け出すの読んだ\n",
      "MoviePy - Writing audio in ../segments/519de236-a148-4a7a-92f9-d800741e8cc2.wav\n"
     ]
    },
    {
     "name": "stderr",
     "output_type": "stream",
     "text": [
      "                                                       "
     ]
    },
    {
     "name": "stdout",
     "output_type": "stream",
     "text": [
      "MoviePy - Done.\n"
     ]
    },
    {
     "name": "stderr",
     "output_type": "stream",
     "text": [
      "\r"
     ]
    },
    {
     "name": "stdout",
     "output_type": "stream",
     "text": [
      "Index 46: Transcription: クラシック3巻の夢向け大いに期待が高まります\n",
      "VTT 파일이 '../output/whisper_vad_257013.vtt'로 저장되었습니다.\n"
     ]
    }
   ],
   "source": [
    "\n",
    "from silero_vad import load_silero_vad, read_audio, get_speech_timestamps\n",
    "from moviepy.audio.io.AudioFileClip import AudioFileClip\n",
    "import datetime\n",
    "import whisper\n",
    "import uuid\n",
    "import os\n",
    "\n",
    "AUDIO_DIR_PATH = \"../sample/audio\"\n",
    "AUDIO_FILE_PATH = f\"{AUDIO_DIR_PATH}/1_uma_5_min_(Vocals).wav\"\n",
    "\n",
    "whisper_model = whisper.load_model(\"large-v2\")\n",
    "\n",
    "vad_model = load_silero_vad()\n",
    "wav = read_audio(AUDIO_FILE_PATH)\n",
    "speech_time_stamps = get_speech_timestamps(\n",
    "    wav, model=vad_model, return_seconds=True, min_speech_duration_ms=100)\n",
    "\n",
    "# 결과를 저장할 리스트\n",
    "transcription_results = []\n",
    "\n",
    "\n",
    "for index, time_stamp in enumerate(speech_time_stamps):\n",
    "    try:\n",
    "        # 고유 파일 이름 생성\n",
    "        unique_filename = str(uuid.uuid4())\n",
    "        temp_audio_path = f\"../segments/{unique_filename}.wav\"\n",
    "\n",
    "        # 오디오 파일을 자르고 임시 파일로 저장\n",
    "        audio_clip = AudioFileClip(filename=AUDIO_FILE_PATH)\n",
    "        new_clip = audio_clip.subclip(time_stamp[\"start\"], time_stamp[\"end\"])\n",
    "        new_clip.write_audiofile(temp_audio_path)\n",
    "\n",
    "        # Whisper 모델로 자른 부분의 텍스트를 추출\n",
    "        result = whisper_model.transcribe(\n",
    "            temp_audio_path, language=\"Japanese\", temperature=0.2\n",
    "        )\n",
    "\n",
    "        # 결과를 출력하고 리스트에 저장\n",
    "        transcription_results.append({\n",
    "            \"index\": index,\n",
    "            \"start\": time_stamp[\"start\"],\n",
    "            \"end\": time_stamp[\"end\"],\n",
    "            \"text\": result['text']\n",
    "        })\n",
    "\n",
    "        print(\n",
    "            f\"Index {index}: Transcription: {result['text']}\")\n",
    "\n",
    "    except Exception as e:\n",
    "        print(f\"오류 발생 (Index {index}): {e}\")\n",
    "\n",
    "    finally:\n",
    "        # 임시 파일 삭제\n",
    "        if os.path.exists(temp_audio_path):\n",
    "            os.remove(temp_audio_path)\n",
    "\n",
    "# VTT 파일로 저장\n",
    "vtt_file_path = f\"../output/whisper_vad_{datetime.datetime.now().microsecond}.vtt\"\n",
    "\n",
    "with open(vtt_file_path, 'w', encoding='utf-8') as vtt_file:\n",
    "    vtt_file.write(\"WEBVTT\\n\\n\")\n",
    "\n",
    "    for result in transcription_results:\n",
    "        start_time = result[\"start\"]\n",
    "        end_time = result[\"end\"]\n",
    "        text = result[\"text\"]\n",
    "\n",
    "        # 시간을 VTT 포맷 (HH:MM:SS.mmm)으로 변환\n",
    "        start_time_str = f\"{int(start_time // 3600):02}:{int((start_time % 3600) // 60):02}:{start_time % 60:06.3f}\"\n",
    "        end_time_str = f\"{int(end_time // 3600):02}:{int((end_time % 3600) // 60):02}:{end_time % 60:06.3f}\"\n",
    "\n",
    "        # VTT 형식으로 자막을 작성\n",
    "        vtt_file.write(f\"{result['index'] + 1}\\n\")\n",
    "        vtt_file.write(f\"{start_time_str} --> {end_time_str}\\n\")\n",
    "        vtt_file.write(f\"{text}\\n\\n\")\n",
    "\n",
    "print(f\"VTT 파일이 '{vtt_file_path}'로 저장되었습니다.\")"
   ]
  },
  {
   "cell_type": "markdown",
   "metadata": {},
   "source": []
  }
 ],
 "metadata": {
  "kernelspec": {
   "display_name": "env",
   "language": "python",
   "name": "python3"
  },
  "language_info": {
   "codemirror_mode": {
    "name": "ipython",
    "version": 3
   },
   "file_extension": ".py",
   "mimetype": "text/x-python",
   "name": "python",
   "nbconvert_exporter": "python",
   "pygments_lexer": "ipython3",
   "version": "3.11.7"
  }
 },
 "nbformat": 4,
 "nbformat_minor": 2
}
